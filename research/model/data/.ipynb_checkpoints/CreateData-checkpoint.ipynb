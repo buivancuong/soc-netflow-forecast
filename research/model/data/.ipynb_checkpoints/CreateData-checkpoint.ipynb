{
 "cells": [
  {
   "cell_type": "markdown",
   "metadata": {},
   "source": [
    "Get data from elasticsearch"
   ]
  },
  {
   "cell_type": "code",
   "execution_count": 10,
   "metadata": {},
   "outputs": [],
   "source": [
    "from elasticsearch import Elasticsearch\n",
    "import json\n",
    "import requests\n",
    "\n",
    "elasticsearch = Elasticsearch(['http://192.168.1.206:9200/'])\n",
    "index_list = []"
   ]
  },
  {
   "cell_type": "markdown",
   "metadata": {},
   "source": [
    "Create query body"
   ]
  },
  {
   "cell_type": "code",
   "execution_count": 11,
   "metadata": {},
   "outputs": [],
   "source": [
    "sensor = 'sensor-cmc-corp'\n",
    "query_body = {\n",
    "  \"aggs\": {\n",
    "    \"2\": {\n",
    "      \"date_histogram\": {\n",
    "        \"field\": \"@timestamp\",\n",
    "        \"interval\": \"5m\"\n",
    "      },\n",
    "      \"aggs\": {\n",
    "        \"1\": {\n",
    "          \"sum\": {\n",
    "            \"field\": \"IN_BYTES\"\n",
    "          }\n",
    "        },\n",
    "        \"3\": {\n",
    "          \"sum\": {\n",
    "            \"field\": \"OUT_BYTES\"\n",
    "          }\n",
    "        },\n",
    "        \"4\": {\n",
    "          \"sum\": {\n",
    "            \"field\": \"IN_PKTS\"\n",
    "          }\n",
    "        },\n",
    "        \"5\": {\n",
    "          \"sum\": {\n",
    "            \"field\": \"OUT_PKTS\"\n",
    "          }\n",
    "        }\n",
    "      }\n",
    "    }\n",
    "  },\n",
    "  \"size\": 0,\n",
    "  \"query\": {\n",
    "    \"bool\": {\n",
    "      \"must\": [\n",
    "        {\n",
    "          \"match\": {\n",
    "            \"NTOPNG_INSTANCE_NAME.keyword\": sensor\n",
    "          }\n",
    "        }\n",
    "      ]\n",
    "    }\n",
    "  }\n",
    "}\n",
    "elastic_query = json.dumps(query_body)"
   ]
  },
  {
   "cell_type": "markdown",
   "metadata": {},
   "source": [
    "Create index list to get data"
   ]
  },
  {
   "cell_type": "code",
   "execution_count": 15,
   "metadata": {},
   "outputs": [
    {
     "name": "stdout",
     "output_type": "stream",
     "text": [
      "['flows-2019.09.02', 'flows-2019.09.03', 'flows-2019.09.04', 'flows-2019.09.05', 'flows-2019.09.06', 'flows-2019.09.07', 'flows-2019.09.08', 'flows-2019.09.09']\n"
     ]
    }
   ],
   "source": [
    "import datetime\n",
    "\n",
    "def create_index(date):\n",
    "    index = 'flows-2019.'\n",
    "    month = date.month\n",
    "    if month < 10:\n",
    "        index += ('0' + str(month))\n",
    "    else:\n",
    "        index += str(month)\n",
    "    day = date.day\n",
    "    if day < 10:\n",
    "        index += ('.0' + str(day))\n",
    "    else:\n",
    "        index += ('.' + str(day))\n",
    "    return index\n",
    "\n",
    "index_list = []\n",
    "today = datetime.datetime.today\n",
    "for i in range(8):\n",
    "    date = datetime.datetime.today() - datetime.timedelta(days=7-i)\n",
    "    index = create_index(date)\n",
    "    index_list.append(index)\n",
    "print(index_list)"
   ]
  },
  {
   "cell_type": "markdown",
   "metadata": {},
   "source": [
    "Get data from index on index list and push to Pandas dataframe"
   ]
  },
  {
   "cell_type": "code",
   "execution_count": 16,
   "metadata": {},
   "outputs": [],
   "source": [
    "import pandas as pd\n",
    "data_frame = pd.DataFrame(columns=['TIMESTAMP', 'IN_BYTES', 'OUT_BYTES', 'IN_PKTS', 'OUT_PKTS', 'COUNTS'])\n",
    "\n",
    "for index_day in index_list:\n",
    "    elastic_result = elasticsearch.search(index=index_day, body=elastic_query, request_timeout=180)\n",
    "    for row in elastic_result['aggregations']['2']['buckets']:\n",
    "        data_frame = data_frame.append({'TIMESTAMP': row['key_as_string'], 'IN_BYTES': row['1']['value'], 'OUT_BYTES': row['3']['value'], 'IN_PKTS': row['4']['value'], 'OUT_PKTS': row['5']['value'], 'COUNTS': row['doc_count']}, ignore_index=True)\n",
    "data_frame.to_csv(sensor + '.csv')"
   ]
  },
  {
   "cell_type": "code",
   "execution_count": null,
   "metadata": {},
   "outputs": [],
   "source": []
  },
  {
   "cell_type": "code",
   "execution_count": null,
   "metadata": {},
   "outputs": [],
   "source": []
  },
  {
   "cell_type": "code",
   "execution_count": null,
   "metadata": {},
   "outputs": [],
   "source": []
  },
  {
   "cell_type": "code",
   "execution_count": null,
   "metadata": {},
   "outputs": [],
   "source": []
  },
  {
   "cell_type": "code",
   "execution_count": null,
   "metadata": {},
   "outputs": [],
   "source": []
  },
  {
   "cell_type": "code",
   "execution_count": null,
   "metadata": {},
   "outputs": [],
   "source": []
  },
  {
   "cell_type": "code",
   "execution_count": null,
   "metadata": {},
   "outputs": [],
   "source": []
  },
  {
   "cell_type": "code",
   "execution_count": null,
   "metadata": {},
   "outputs": [],
   "source": []
  }
 ],
 "metadata": {
  "kernelspec": {
   "display_name": "Python 3",
   "language": "python",
   "name": "python3"
  },
  "language_info": {
   "codemirror_mode": {
    "name": "ipython",
    "version": 3
   },
   "file_extension": ".py",
   "mimetype": "text/x-python",
   "name": "python",
   "nbconvert_exporter": "python",
   "pygments_lexer": "ipython3",
   "version": "3.6.9"
  }
 },
 "nbformat": 4,
 "nbformat_minor": 2
}
